{
 "cells": [
  {
   "cell_type": "markdown",
   "id": "bfceeb48",
   "metadata": {},
   "source": [
    "# Implementing Basis Functions for Gillan's Method"
   ]
  },
  {
   "cell_type": "markdown",
   "id": "b5792a4f",
   "metadata": {},
   "source": [
    "[1] https://doi.org/10.1080/00268977900102861"
   ]
  },
  {
   "cell_type": "code",
   "execution_count": null,
   "id": "e23444a1",
   "metadata": {},
   "outputs": [],
   "source": [
    "import numpy as np\n",
    "import matplotlib.pyplot as plt\n",
    "\n",
    "np.set_printoptions(precision=2, suppress=True)"
   ]
  },
  {
   "cell_type": "markdown",
   "id": "0f3d7ca0",
   "metadata": {},
   "source": [
    "Define a grid:"
   ]
  },
  {
   "cell_type": "code",
   "execution_count": null,
   "id": "8e0db448",
   "metadata": {},
   "outputs": [],
   "source": [
    "radius = 20.48\n",
    "npts = 1024\n",
    "dx = radius/npts\n",
    "x = np.arange(0.5, npts) * dx"
   ]
  },
  {
   "cell_type": "markdown",
   "id": "72cbac08",
   "metadata": {},
   "source": [
    "Defines the number of basis functions and their corresponding nodes:"
   ]
  },
  {
   "cell_type": "code",
   "execution_count": null,
   "id": "d0b3447d",
   "metadata": {},
   "outputs": [],
   "source": [
    "nbasis = 6\n",
    "node = int(npts / nbasis / 2)\n",
    "print(node)\n",
    "nodes_index = np.arange(0, nbasis+1) * node\n",
    "nodes = x[nodes_index]\n",
    "print(nodes_index)\n",
    "print(x)\n",
    "print(nodes)"
   ]
  },
  {
   "cell_type": "markdown",
   "id": "e31c6b47",
   "metadata": {},
   "source": [
    "Initialise the Basis functions and related values:"
   ]
  },
  {
   "cell_type": "code",
   "execution_count": null,
   "id": "675902b9",
   "metadata": {},
   "outputs": [],
   "source": [
    "P = np.zeros((npts, nbasis+1), dtype=np.float64) # Basis Function Eq(17) of [1]\n",
    "Q = np.zeros_like(P) # Conjugate Basis Function Eq(18) of [1]\n",
    "R = np.zeros((nbasis, nbasis), dtype=np.float64) # Eq (20) of [1]\n",
    "kron = np.zeros_like(R) # Eq (19) of [1]"
   ]
  },
  {
   "cell_type": "markdown",
   "id": "002dbb64",
   "metadata": {},
   "source": [
    "Basis function $P$ is defined with the following cases: \n",
    "\n",
    "(1) $P_\\alpha^i = 0$ when $1 \\leq i \\leq i_{\\alpha-2}$\n",
    "\n",
    "(2) $P_\\alpha^i = \\frac{i - i_{\\alpha-2}}{i_{\\alpha-1} - i_{\\alpha-2}}$ when $i_{\\alpha-2} \\leq i \\leq i_{\\alpha-1}$\n",
    "\n",
    "(3) $P_\\alpha^i = \\frac{i_\\alpha - i}{i_{\\alpha} - i_{\\alpha-1}}$ when $i_{\\alpha-1} \\leq i \\leq i_{\\alpha}$\n",
    "\n",
    "(4) $P_\\alpha^i = 0$ when $i_{\\alpha} \\leq i \\leq N$\n",
    "\n",
    "and for the case $P_1^i$ ($\\alpha = 1$):\n",
    "\n",
    "(5) $P_1^i = \\frac{i_1 - i}{i_1}$ when $1 \\leq i \\leq i_1$\n",
    "\n",
    "(6) $P_1^i = 0$ when $i_1 \\leq i \\leq N$\n",
    "\n",
    "where $i_\\alpha$ are the points at which a node is defined (var: nodes).\n",
    "Since the arrays are initialised with 0, we only really need to implement (2), (3) and (5).\n",
    "\n",
    "This paper was written most likely for Fortran where arrays start at 1, but in Python arrays are 0-indexed! Keep that in mind."
   ]
  },
  {
   "cell_type": "code",
   "execution_count": null,
   "id": "a0e77de7",
   "metadata": {},
   "outputs": [],
   "source": [
    "# For the case \\alpha = 0 over all idx\n",
    "P[...,0] = 1\n",
    "# For \\alpha = 1 and the rest of the idx\n",
    "for idx in range(0, npts):\n",
    "    if nodes[0] <= x[idx] <= nodes[1]:\n",
    "        P[idx, 1] = (nodes[1] - x[idx]) / (nodes[1])"
   ]
  },
  {
   "cell_type": "code",
   "execution_count": null,
   "id": "d5c2f54f",
   "metadata": {},
   "outputs": [],
   "source": [
    "plt.plot(x, P[..., 1])\n",
    "plt.show()"
   ]
  },
  {
   "cell_type": "code",
   "execution_count": null,
   "id": "fc14c865",
   "metadata": {},
   "outputs": [],
   "source": [
    "# Rest of the \\alpha cases\n",
    "for a in range(2, nbasis+1):\n",
    "    for idx in range(0, npts):\n",
    "        if nodes[a-2] <= x[idx] <= nodes[a-1]:\n",
    "            P[idx, a] = (x[idx] - nodes[a-2])/(nodes[a-1] - nodes[a-2])\n",
    "        elif nodes[a-1] <= x[idx] <= nodes[a]:\n",
    "            P[idx, a] = (nodes[a] - x[idx])/(nodes[a] - nodes[a-1])"
   ]
  },
  {
   "cell_type": "code",
   "execution_count": null,
   "id": "236b0489",
   "metadata": {},
   "outputs": [],
   "source": [
    "for a in range(1, nbasis+1):\n",
    "    print(P[..., a])\n",
    "    plt.axvline(x=nodes[a], color='grey', linestyle=\"--\", linewidth=0.5)\n",
    "    plt.plot(x, P[..., a])\n",
    "plt.xlim([0.0, nodes[-1]+2])\n",
    "plt.show()"
   ]
  },
  {
   "cell_type": "markdown",
   "id": "1e720bfa",
   "metadata": {},
   "source": [
    "Implementing equation 20 of [1] - $R_{\\alpha\\beta} = \\sum_i P_\\alpha^i P_\\beta^i$"
   ]
  },
  {
   "cell_type": "code",
   "execution_count": null,
   "id": "d7f97305",
   "metadata": {},
   "outputs": [],
   "source": [
    "P_skip_zero = P[..., 1:].copy()\n",
    "Pa = P_skip_zero.copy()\n",
    "Pb = P_skip_zero.copy()\n",
    "for a in range(nbasis):\n",
    "    for b in range(nbasis):\n",
    "        R[a,b] = (Pa[..., a] * Pb[..., b]).sum()"
   ]
  },
  {
   "cell_type": "markdown",
   "id": "c4248bf2",
   "metadata": {},
   "source": [
    "The inverse of R - $B_{\\alpha\\beta}$"
   ]
  },
  {
   "cell_type": "code",
   "execution_count": null,
   "id": "789dd92a",
   "metadata": {},
   "outputs": [],
   "source": [
    "B = np.linalg.inv(R)"
   ]
  },
  {
   "cell_type": "markdown",
   "id": "e0b7b12e",
   "metadata": {},
   "source": [
    "Implementing equation 18 of [1] - $Q_\\alpha^i = \\sum_\\beta B_{\\alpha\\beta}P_\\beta^i$"
   ]
  },
  {
   "cell_type": "code",
   "execution_count": null,
   "id": "5cccbe7d",
   "metadata": {},
   "outputs": [],
   "source": [
    "for i in range(npts):\n",
    "    for a in range(nbasis):\n",
    "        Q[i,a] = (B[a,:] * P_skip_zero[i,:]).sum()"
   ]
  },
  {
   "cell_type": "markdown",
   "id": "5e66c7e0",
   "metadata": {},
   "source": [
    "Implementing equation 20 of [1] - $\\sum_i Q_\\alpha^iP_\\beta^i = \\delta_{\\alpha\\beta}$"
   ]
  },
  {
   "cell_type": "code",
   "execution_count": null,
   "id": "24a3ebfc",
   "metadata": {},
   "outputs": [],
   "source": [
    "for a in range(nbasis):\n",
    "    for b in range(nbasis):\n",
    "        kron[a,b] = (Q[...,a] * P_skip_zero[...,b]).sum()"
   ]
  },
  {
   "cell_type": "markdown",
   "id": "e601e78a",
   "metadata": {},
   "source": [
    "kron should be the identity matrix..."
   ]
  },
  {
   "cell_type": "code",
   "execution_count": null,
   "id": "af9e943e",
   "metadata": {},
   "outputs": [],
   "source": [
    "print(kron)"
   ]
  }
 ],
 "metadata": {
  "kernelspec": {
   "display_name": "Python 3 (ipykernel)",
   "language": "python",
   "name": "python3"
  },
  "language_info": {
   "codemirror_mode": {
    "name": "ipython",
    "version": 3
   },
   "file_extension": ".py",
   "mimetype": "text/x-python",
   "name": "python",
   "nbconvert_exporter": "python",
   "pygments_lexer": "ipython3",
   "version": "3.9.13"
  }
 },
 "nbformat": 4,
 "nbformat_minor": 5
}
